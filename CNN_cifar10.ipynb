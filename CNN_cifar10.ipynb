{
  "nbformat": 4,
  "nbformat_minor": 0,
  "metadata": {
    "colab": {
      "name": "CNN_cifar10.ipynb",
      "provenance": []
    },
    "kernelspec": {
      "name": "python3",
      "display_name": "Python 3"
    },
    "language_info": {
      "name": "python"
    }
  },
  "cells": [
    {
      "cell_type": "code",
      "metadata": {
        "id": "K7IJZuqmkyGs"
      },
      "source": [
        "import tensorflow as tf\n",
        "from tensorflow.keras import datasets, layers, models\n",
        "import matplotlib.pyplot as plt\n",
        "import numpy as np"
      ],
      "execution_count": 1,
      "outputs": []
    },
    {
      "cell_type": "code",
      "metadata": {
        "colab": {
          "base_uri": "https://localhost:8080/"
        },
        "id": "FeiIRcCVlJ6I",
        "outputId": "a090e50d-76b2-4716-c94e-292b244ad578"
      },
      "source": [
        "(X_train, y_train), (X_test, y_test) = datasets.cifar10.load_data()\n",
        "\n",
        "#dataset loaded and divided into training and testing\n",
        "\n",
        "X_train.shape\n",
        "\n",
        "#here we 50k data in training set, with 32x32 size and 3 color channels\n"
      ],
      "execution_count": 2,
      "outputs": [
        {
          "output_type": "stream",
          "name": "stdout",
          "text": [
            "Downloading data from https://www.cs.toronto.edu/~kriz/cifar-10-python.tar.gz\n",
            "170500096/170498071 [==============================] - 2s 0us/step\n",
            "170508288/170498071 [==============================] - 2s 0us/step\n"
          ]
        },
        {
          "output_type": "execute_result",
          "data": {
            "text/plain": [
              "(50000, 32, 32, 3)"
            ]
          },
          "metadata": {},
          "execution_count": 2
        }
      ]
    },
    {
      "cell_type": "code",
      "metadata": {
        "colab": {
          "base_uri": "https://localhost:8080/"
        },
        "id": "lswfclg3lvHY",
        "outputId": "f3d90c9d-afde-4294-ade1-1e54213589df"
      },
      "source": [
        "X_test.shape"
      ],
      "execution_count": 3,
      "outputs": [
        {
          "output_type": "execute_result",
          "data": {
            "text/plain": [
              "(10000, 32, 32, 3)"
            ]
          },
          "metadata": {},
          "execution_count": 3
        }
      ]
    },
    {
      "cell_type": "code",
      "metadata": {
        "colab": {
          "base_uri": "https://localhost:8080/"
        },
        "id": "W-6zy0Mdv72Y",
        "outputId": "78461834-45a0-4f56-e6bc-9140f9bea3fb"
      },
      "source": [
        "y_train[:5]    #as we can see its in 2d, and we just need the number, so we will reshape this"
      ],
      "execution_count": 16,
      "outputs": [
        {
          "output_type": "execute_result",
          "data": {
            "text/plain": [
              "array([[6],\n",
              "       [9],\n",
              "       [9],\n",
              "       [4],\n",
              "       [1]], dtype=uint8)"
            ]
          },
          "metadata": {},
          "execution_count": 16
        }
      ]
    },
    {
      "cell_type": "code",
      "metadata": {
        "colab": {
          "base_uri": "https://localhost:8080/"
        },
        "id": "SoT1IkKcw0lo",
        "outputId": "2a9d3de3-dbe5-4047-ee54-7a68c722c51e"
      },
      "source": [
        "y_train = y_train.reshape(-1,)  \n",
        "\n",
        "#lost one dimension, 2d became 1d\n",
        "y_train[:5]"
      ],
      "execution_count": 26,
      "outputs": [
        {
          "output_type": "execute_result",
          "data": {
            "text/plain": [
              "array([6, 9, 9, 4, 1], dtype=uint8)"
            ]
          },
          "metadata": {},
          "execution_count": 26
        }
      ]
    },
    {
      "cell_type": "code",
      "metadata": {
        "colab": {
          "base_uri": "https://localhost:8080/"
        },
        "id": "yL0VzM_QmMEg",
        "outputId": "e053c392-f0a6-4f23-c6b7-ad5ed96b78a1"
      },
      "source": [
        "X_train[0]"
      ],
      "execution_count": 27,
      "outputs": [
        {
          "output_type": "execute_result",
          "data": {
            "text/plain": [
              "array([[[ 59,  62,  63],\n",
              "        [ 43,  46,  45],\n",
              "        [ 50,  48,  43],\n",
              "        ...,\n",
              "        [158, 132, 108],\n",
              "        [152, 125, 102],\n",
              "        [148, 124, 103]],\n",
              "\n",
              "       [[ 16,  20,  20],\n",
              "        [  0,   0,   0],\n",
              "        [ 18,   8,   0],\n",
              "        ...,\n",
              "        [123,  88,  55],\n",
              "        [119,  83,  50],\n",
              "        [122,  87,  57]],\n",
              "\n",
              "       [[ 25,  24,  21],\n",
              "        [ 16,   7,   0],\n",
              "        [ 49,  27,   8],\n",
              "        ...,\n",
              "        [118,  84,  50],\n",
              "        [120,  84,  50],\n",
              "        [109,  73,  42]],\n",
              "\n",
              "       ...,\n",
              "\n",
              "       [[208, 170,  96],\n",
              "        [201, 153,  34],\n",
              "        [198, 161,  26],\n",
              "        ...,\n",
              "        [160, 133,  70],\n",
              "        [ 56,  31,   7],\n",
              "        [ 53,  34,  20]],\n",
              "\n",
              "       [[180, 139,  96],\n",
              "        [173, 123,  42],\n",
              "        [186, 144,  30],\n",
              "        ...,\n",
              "        [184, 148,  94],\n",
              "        [ 97,  62,  34],\n",
              "        [ 83,  53,  34]],\n",
              "\n",
              "       [[177, 144, 116],\n",
              "        [168, 129,  94],\n",
              "        [179, 142,  87],\n",
              "        ...,\n",
              "        [216, 184, 140],\n",
              "        [151, 118,  84],\n",
              "        [123,  92,  72]]], dtype=uint8)"
            ]
          },
          "metadata": {},
          "execution_count": 27
        }
      ]
    },
    {
      "cell_type": "code",
      "metadata": {
        "colab": {
          "base_uri": "https://localhost:8080/",
          "height": 178
        },
        "id": "LviqwlVamwIU",
        "outputId": "7084defd-f7f0-4824-aa1d-47b7258f187d"
      },
      "source": [
        "#above is just in numbers and 3 color channel image matrix, But i need to visualise it.\n",
        "\n",
        "plt.figure(figsize=(15,2))   #setting a display size\n",
        "plt.imshow(X_train[0])"
      ],
      "execution_count": 28,
      "outputs": [
        {
          "output_type": "execute_result",
          "data": {
            "text/plain": [
              "<matplotlib.image.AxesImage at 0x7f228eaa4590>"
            ]
          },
          "metadata": {},
          "execution_count": 28
        },
        {
          "output_type": "display_data",
          "data": {
            "image/png": "[encoded data removed]",
            "text/plain": [
              "<Figure size 1080x144 with 1 Axes>"
            ]
          },
          "metadata": {
            "needs_background": "light"
          }
        }
      ]
    },
    {
      "cell_type": "code",
      "metadata": {
        "colab": {
          "base_uri": "https://localhost:8080/",
          "height": 178
        },
        "id": "hf5EzIe0oAO4",
        "outputId": "149aafd7-7ff4-42a1-a3dc-c1a72c3bfb2a"
      },
      "source": [
        "plt.figure(figsize=(15,2))\n",
        "\n",
        "plt.imshow(X_train[1])"
      ],
      "execution_count": 29,
      "outputs": [
        {
          "output_type": "execute_result",
          "data": {
            "text/plain": [
              "<matplotlib.image.AxesImage at 0x7f228ea76910>"
            ]
          },
          "metadata": {},
          "execution_count": 29
        },
        {
          "output_type": "display_data",
          "data": {
            "image/png": "[encoded data removed]",
            "text/plain": [
              "<Figure size 1080x144 with 1 Axes>"
            ]
          },
          "metadata": {
            "needs_background": "light"
          }
        }
      ]
    },
    {
      "cell_type": "code",
      "metadata": {
        "id": "wAroCnVkwGfo"
      },
      "source": [
        "classes = [\"airplane\",\"automobile\",\"bird\",\"cat\",\"deer\",\"dog\",\"frog\",\"horse\",\"ship\",\"truck\"]"
      ],
      "execution_count": 30,
      "outputs": []
    },
    {
      "cell_type": "code",
      "metadata": {
        "id": "UvB0BpdmovjA"
      },
      "source": [
        "#now for convenience I am going to define a function\n",
        "\n",
        "def plot_sample(X, y, index):\n",
        "  plt.figure(figsize= (15,2))\n",
        "  plt.imshow(X[index])\n",
        "  plt.xlabel(classes[y[index]])     #I need to print the lable also. But as on the site, we have numbers as labels.\n"
      ],
      "execution_count": 31,
      "outputs": []
    },
    {
      "cell_type": "code",
      "metadata": {
        "colab": {
          "base_uri": "https://localhost:8080/",
          "height": 173
        },
        "id": "ElcaFN9A1wrU",
        "outputId": "f5f47e43-ba81-4dbb-97b5-d20d307fc267"
      },
      "source": [
        "plot_sample(X_train, y_train, 0)\n",
        "\n",
        "#works perfectly, gives the correct label"
      ],
      "execution_count": 32,
      "outputs": [
        {
          "output_type": "display_data",
          "data": {
            "image/png": "[encoded data removed]",
            "text/plain": [
              "<Figure size 1080x144 with 1 Axes>"
            ]
          },
          "metadata": {
            "needs_background": "light"
          }
        }
      ]
    },
    {
      "cell_type": "code",
      "metadata": {
        "colab": {
          "base_uri": "https://localhost:8080/",
          "height": 173
        },
        "id": "7oVwnshX12OA",
        "outputId": "0b20ffe2-14e5-433c-e775-d788095b5034"
      },
      "source": [
        "plot_sample(X_train, y_train, 2)"
      ],
      "execution_count": 33,
      "outputs": [
        {
          "output_type": "display_data",
          "data": {
            "image/png": "[encoded data removed]",
            "text/plain": [
              "<Figure size 1080x144 with 1 Axes>"
            ]
          },
          "metadata": {
            "needs_background": "light"
          }
        }
      ]
    },
    {
      "cell_type": "code",
      "metadata": {
        "colab": {
          "base_uri": "https://localhost:8080/",
          "height": 173
        },
        "id": "JKU7x62_8G7U",
        "outputId": "153ebb83-1faf-42b8-b274-3db0d9505422"
      },
      "source": [
        "plot_sample(X_train, y_train, 4)"
      ],
      "execution_count": 34,
      "outputs": [
        {
          "output_type": "display_data",
          "data": {
            "image/png": "[encoded data removed]",
            "text/plain": [
              "<Figure size 1080x144 with 1 Axes>"
            ]
          },
          "metadata": {
            "needs_background": "light"
          }
        }
      ]
    },
    {
      "cell_type": "code",
      "metadata": {
        "id": "Yjv5nQy79pwU"
      },
      "source": [
        "#now we need to normalise it\n",
        "\n",
        "X_train = X_train / 255\n",
        "X_test = X_test / 255"
      ],
      "execution_count": 35,
      "outputs": []
    },
    {
      "cell_type": "code",
      "metadata": {
        "colab": {
          "base_uri": "https://localhost:8080/"
        },
        "id": "kmbnokkM-qpc",
        "outputId": "0dc9d787-b144-4869-d5bc-cc0f1015ecd5"
      },
      "source": [
        "#using ANN (multilayer perceptron) to do the task\n",
        "\n",
        "ann = models.Sequential([\n",
        "                         layers.Flatten(input_shape=(32,32,3)),\n",
        "                         layers.Dense(3000, activation='relu'),\n",
        "                         layers.Dense(1000,activation = 'relu'),\n",
        "                         layers.Dense(10, activation= 'sigmoid')\n",
        "                         ])\n",
        "\n",
        "ann.compile(optimizer='SGD', \n",
        "            loss='sparse_categorical_crossentropy',   #sparse is used as we know the final output in terms of integers. If it was one-hot encode, then we use categorical cross entropy\n",
        "            metrics=['accuracy'])\n",
        "\n",
        "ann.fit(X_train, y_train, epochs=5)"
      ],
      "execution_count": 37,
      "outputs": [
        {
          "output_type": "stream",
          "name": "stdout",
          "text": [
            "Epoch 1/5\n",
            "1563/1563 [==============================] - 112s 71ms/step - loss: 1.8107 - accuracy: 0.3525\n",
            "Epoch 2/5\n",
            "1563/1563 [==============================] - 112s 72ms/step - loss: 1.6207 - accuracy: 0.4283\n",
            "Epoch 3/5\n",
            "1563/1563 [==============================] - 111s 71ms/step - loss: 1.5393 - accuracy: 0.4568\n",
            "Epoch 4/5\n",
            "1563/1563 [==============================] - 111s 71ms/step - loss: 1.4798 - accuracy: 0.4771\n",
            "Epoch 5/5\n",
            "1563/1563 [==============================] - 112s 72ms/step - loss: 1.4292 - accuracy: 0.4964\n"
          ]
        },
        {
          "output_type": "execute_result",
          "data": {
            "text/plain": [
              "<keras.callbacks.History at 0x7f228eb22890>"
            ]
          },
          "metadata": {},
          "execution_count": 37
        }
      ]
    },
    {
      "cell_type": "code",
      "metadata": {
        "colab": {
          "base_uri": "https://localhost:8080/"
        },
        "id": "BQKvIp3JC_0g",
        "outputId": "c4f9005a-658b-4170-8601-e52c301af354"
      },
      "source": [
        "#as we can see ann didnt do a good job, accuracy is not even 50. Pretty bad. And this was just training data\n",
        "\n",
        "#now evaluating it with testing data and the accuracy drops to 45%\n",
        "\n",
        "ann.evaluate(X_test, y_test)"
      ],
      "execution_count": 38,
      "outputs": [
        {
          "output_type": "stream",
          "name": "stdout",
          "text": [
            "313/313 [==============================] - 9s 27ms/step - loss: 1.5564 - accuracy: 0.4501\n"
          ]
        },
        {
          "output_type": "execute_result",
          "data": {
            "text/plain": [
              "[1.5563905239105225, 0.45010000467300415]"
            ]
          },
          "metadata": {},
          "execution_count": 38
        }
      ]
    },
    {
      "cell_type": "code",
      "metadata": {
        "colab": {
          "base_uri": "https://localhost:8080/"
        },
        "id": "LJNJzLNHHAm4",
        "outputId": "8cfa3a1b-9aa7-48e3-e968-5552c1422768"
      },
      "source": [
        "#classification report \n",
        "\n",
        "from sklearn.metrics import confusion_matrix , classification_report\n",
        "import numpy as np\n",
        "\n",
        "y_pred = ann.predict(X_test)\n",
        "y_pred_classes = [np.argmax(element) for element in y_pred]\n",
        "\n",
        "print(\"Classification Report: \\n\", classification_report(y_test, y_pred_classes))\n"
      ],
      "execution_count": 39,
      "outputs": [
        {
          "output_type": "stream",
          "name": "stdout",
          "text": [
            "Classification Report: \n",
            "               precision    recall  f1-score   support\n",
            "\n",
            "           0       0.37      0.74      0.50      1000\n",
            "           1       0.40      0.79      0.53      1000\n",
            "           2       0.43      0.23      0.30      1000\n",
            "           3       0.42      0.25      0.32      1000\n",
            "           4       0.40      0.48      0.43      1000\n",
            "           5       0.51      0.20      0.29      1000\n",
            "           6       0.58      0.42      0.48      1000\n",
            "           7       0.52      0.55      0.54      1000\n",
            "           8       0.66      0.33      0.44      1000\n",
            "           9       0.49      0.51      0.50      1000\n",
            "\n",
            "    accuracy                           0.45     10000\n",
            "   macro avg       0.48      0.45      0.43     10000\n",
            "weighted avg       0.48      0.45      0.43     10000\n",
            "\n"
          ]
        }
      ]
    },
    {
      "cell_type": "code",
      "metadata": {
        "id": "1Zuw1vifIz_Q"
      },
      "source": [
        "#Out of total, how many of predictions did I get right -> accuracy\n",
        "\n",
        "#Precision is out all predictions, how many you got right. Precision =  TP/ (TP+FP)\n",
        "\n",
        "#Recall is out of all truth, how many you got right. Recall = TP/(TP+FN)\n",
        "\n",
        "\n",
        "\n",
        "#For precision, thnk about predictions as your base.\n",
        "#For recall, think about truth as your base.\n",
        "#f1 is just a harmonic mean of precision and recall\n"
      ],
      "execution_count": null,
      "outputs": []
    }
  ]
}